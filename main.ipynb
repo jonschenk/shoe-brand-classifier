{
 "cells": [
  {
   "cell_type": "code",
   "execution_count": 105,
   "metadata": {},
   "outputs": [],
   "source": [
    "import tensorflow as tf\n",
    "from tensorflow.keras import layers, models\n",
    "from tensorflow.keras.applications import MobileNetV2\n",
    "from tensorflow.keras.preprocessing.image import ImageDataGenerator\n",
    "from sklearn.metrics import confusion_matrix, classification_report\n",
    "import seaborn as sns\n",
    "import matplotlib.pyplot as plt\n",
    "import numpy as np\n",
    "from tensorflow.keras.callbacks import EarlyStopping, ReduceLROnPlateau\n"
   ]
  },
  {
   "cell_type": "code",
   "execution_count": 106,
   "metadata": {},
   "outputs": [
    {
     "name": "stdout",
     "output_type": "stream",
     "text": [
      "Found 570 images belonging to 3 classes.\n",
      "Found 141 images belonging to 3 classes.\n"
     ]
    }
   ],
   "source": [
    "# Image size and batch size\n",
    "image_size = (224, 224)\n",
    "batch_size = 16\n",
    "train_dir = 'data/train'\n",
    "test_dir = 'data/test'\n",
    "\n",
    "# NEW\n",
    "train_datagen = ImageDataGenerator(\n",
    "    rescale=1./255,\n",
    "    rotation_range=20,\n",
    "    width_shift_range=0.15,\n",
    "    height_shift_range=0.15,\n",
    "    zoom_range=0.2,\n",
    "    horizontal_flip=True,\n",
    "    fill_mode='nearest',\n",
    "    validation_split=0.2\n",
    ")\n",
    "\n",
    "test_datagen = ImageDataGenerator(rescale=1./255)\n",
    "\n",
    "train_data = train_datagen.flow_from_directory(\n",
    "    train_dir,\n",
    "    target_size=image_size,\n",
    "    batch_size=batch_size,\n",
    "    class_mode='categorical',\n",
    "    subset='training'\n",
    ")\n",
    "\n",
    "test_data = train_datagen.flow_from_directory(\n",
    "    train_dir,\n",
    "    target_size=image_size,\n",
    "    batch_size=batch_size,\n",
    "    class_mode='categorical',\n",
    "    shuffle = False,\n",
    "    subset='validation'\n",
    ")\n"
   ]
  },
  {
   "cell_type": "code",
   "execution_count": null,
   "metadata": {},
   "outputs": [],
   "source": [
    "# Build a custom CNN model\n",
    "# def build_model(input_shape, num_classes):\n",
    "#     model = models.Sequential([\n",
    "#         # First convolution block\n",
    "#         layers.Conv2D(32, (3, 3), activation='relu', input_shape=input_shape),\n",
    "#         layers.BatchNormalization(),\n",
    "#         layers.MaxPooling2D((2, 2)),\n",
    "#         layers.Dropout(0.2),\n",
    "        \n",
    "#         # Second convolution block\n",
    "#         layers.Conv2D(64, (3, 3), activation='relu'),\n",
    "#         layers.BatchNormalization(),\n",
    "#         layers.MaxPooling2D((2, 2)),\n",
    "#         layers.Dropout(0.3),\n",
    "        \n",
    "#         # Third convolution block\n",
    "#         layers.Conv2D(128, (3, 3), activation='relu'),\n",
    "#         layers.BatchNormalization(),\n",
    "#         layers.MaxPooling2D((2, 2)),\n",
    "#         layers.Dropout(0.4),\n",
    "        \n",
    "#         # Fourth convolution block\n",
    "#         layers.Conv2D(256, (3, 3), activation='relu'),\n",
    "#         layers.BatchNormalization(),\n",
    "#         layers.MaxPooling2D((2, 2)),\n",
    "#         layers.Dropout(0.5),\n",
    "        \n",
    "#         # Flatten and dense layers\n",
    "#         layers.Flatten(),\n",
    "#         layers.Dense(512, activation='relu', kernel_regularizer='l2'),\n",
    "#         layers.BatchNormalization(),\n",
    "#         layers.Dropout(0.5),\n",
    "#         layers.Dense(num_classes, activation='softmax')\n",
    "#     ])\n",
    "#     return model"
   ]
  },
  {
   "cell_type": "code",
   "execution_count": 108,
   "metadata": {},
   "outputs": [],
   "source": [
    "# Create model\n",
    "# model = build_model((*image_size, 3), train_data.num_classes)\n",
    "\n",
    "\n",
    "# base_model = tf.keras.applications.ResNet50(\n",
    "#     weights='imagenet',\n",
    "#     include_top=False,\n",
    "#     input_shape=(*image_size, 3)\n",
    "# )\n",
    "base_model = MobileNetV2(weights='imagenet', include_top=False, input_shape=(224, 224, 3))\n",
    "base_model.trainable = False \n",
    "\n",
    "model = models.Sequential([\n",
    "    base_model,\n",
    "    layers.GlobalAveragePooling2D(),\n",
    "    layers.Dense(256, activation='relu'),\n",
    "    layers.Dropout(0.3),\n",
    "    layers.Dense(train_data.num_classes, activation='softmax')  # Output layer for class prediction\n",
    "])\n",
    "\n",
    "\n",
    "# Compile the model\n",
    "model.compile(\n",
    "    optimizer=tf.keras.optimizers.Adam(learning_rate=0.0001),\n",
    "    loss='categorical_crossentropy',\n",
    "    metrics=['accuracy']\n",
    ")"
   ]
  },
  {
   "cell_type": "code",
   "execution_count": 109,
   "metadata": {},
   "outputs": [
    {
     "name": "stdout",
     "output_type": "stream",
     "text": [
      "Training the custom CNN model...\n"
     ]
    },
    {
     "name": "stderr",
     "output_type": "stream",
     "text": [
      "c:\\Users\\wongb\\AppData\\Local\\Programs\\Python\\Python310\\lib\\site-packages\\keras\\src\\trainers\\data_adapters\\py_dataset_adapter.py:121: UserWarning: Your `PyDataset` class should call `super().__init__(**kwargs)` in its constructor. `**kwargs` can include `workers`, `use_multiprocessing`, `max_queue_size`. Do not pass these arguments to `fit()`, as they will be ignored.\n",
      "  self._warn_if_super_not_called()\n"
     ]
    },
    {
     "name": "stdout",
     "output_type": "stream",
     "text": [
      "Epoch 1/40\n",
      "\u001b[1m36/36\u001b[0m \u001b[32m━━━━━━━━━━━━━━━━━━━━\u001b[0m\u001b[37m\u001b[0m \u001b[1m15s\u001b[0m 327ms/step - accuracy: 0.3304 - loss: 1.2851 - val_accuracy: 0.5674 - val_loss: 0.9076 - learning_rate: 1.0000e-04\n",
      "Epoch 2/40\n",
      "\u001b[1m36/36\u001b[0m \u001b[32m━━━━━━━━━━━━━━━━━━━━\u001b[0m\u001b[37m\u001b[0m \u001b[1m10s\u001b[0m 283ms/step - accuracy: 0.4526 - loss: 1.0448 - val_accuracy: 0.6738 - val_loss: 0.8264 - learning_rate: 1.0000e-04\n",
      "Epoch 3/40\n",
      "\u001b[1m36/36\u001b[0m \u001b[32m━━━━━━━━━━━━━━━━━━━━\u001b[0m\u001b[37m\u001b[0m \u001b[1m10s\u001b[0m 275ms/step - accuracy: 0.6048 - loss: 0.8325 - val_accuracy: 0.7447 - val_loss: 0.7133 - learning_rate: 1.0000e-04\n",
      "Epoch 4/40\n",
      "\u001b[1m36/36\u001b[0m \u001b[32m━━━━━━━━━━━━━━━━━━━━\u001b[0m\u001b[37m\u001b[0m \u001b[1m10s\u001b[0m 283ms/step - accuracy: 0.6691 - loss: 0.7655 - val_accuracy: 0.7305 - val_loss: 0.7384 - learning_rate: 1.0000e-04\n",
      "Epoch 5/40\n",
      "\u001b[1m36/36\u001b[0m \u001b[32m━━━━━━━━━━━━━━━━━━━━\u001b[0m\u001b[37m\u001b[0m \u001b[1m10s\u001b[0m 281ms/step - accuracy: 0.7386 - loss: 0.6597 - val_accuracy: 0.7163 - val_loss: 0.6913 - learning_rate: 1.0000e-04\n",
      "Epoch 6/40\n",
      "\u001b[1m36/36\u001b[0m \u001b[32m━━━━━━━━━━━━━━━━━━━━\u001b[0m\u001b[37m\u001b[0m \u001b[1m10s\u001b[0m 290ms/step - accuracy: 0.7315 - loss: 0.6073 - val_accuracy: 0.7092 - val_loss: 0.6530 - learning_rate: 1.0000e-04\n",
      "Epoch 7/40\n",
      "\u001b[1m36/36\u001b[0m \u001b[32m━━━━━━━━━━━━━━━━━━━━\u001b[0m\u001b[37m\u001b[0m \u001b[1m11s\u001b[0m 314ms/step - accuracy: 0.7774 - loss: 0.5630 - val_accuracy: 0.7660 - val_loss: 0.5976 - learning_rate: 1.0000e-04\n",
      "Epoch 8/40\n",
      "\u001b[1m36/36\u001b[0m \u001b[32m━━━━━━━━━━━━━━━━━━━━\u001b[0m\u001b[37m\u001b[0m \u001b[1m11s\u001b[0m 300ms/step - accuracy: 0.7871 - loss: 0.5329 - val_accuracy: 0.7234 - val_loss: 0.6064 - learning_rate: 1.0000e-04\n",
      "Epoch 9/40\n",
      "\u001b[1m36/36\u001b[0m \u001b[32m━━━━━━━━━━━━━━━━━━━━\u001b[0m\u001b[37m\u001b[0m \u001b[1m11s\u001b[0m 317ms/step - accuracy: 0.8198 - loss: 0.4848 - val_accuracy: 0.7518 - val_loss: 0.5661 - learning_rate: 1.0000e-04\n",
      "Epoch 10/40\n",
      "\u001b[1m36/36\u001b[0m \u001b[32m━━━━━━━━━━━━━━━━━━━━\u001b[0m\u001b[37m\u001b[0m \u001b[1m10s\u001b[0m 287ms/step - accuracy: 0.8107 - loss: 0.4649 - val_accuracy: 0.8085 - val_loss: 0.5563 - learning_rate: 1.0000e-04\n",
      "Epoch 11/40\n",
      "\u001b[1m36/36\u001b[0m \u001b[32m━━━━━━━━━━━━━━━━━━━━\u001b[0m\u001b[37m\u001b[0m \u001b[1m10s\u001b[0m 282ms/step - accuracy: 0.7693 - loss: 0.5231 - val_accuracy: 0.8227 - val_loss: 0.5040 - learning_rate: 1.0000e-04\n",
      "Epoch 12/40\n",
      "\u001b[1m36/36\u001b[0m \u001b[32m━━━━━━━━━━━━━━━━━━━━\u001b[0m\u001b[37m\u001b[0m \u001b[1m10s\u001b[0m 287ms/step - accuracy: 0.8648 - loss: 0.4362 - val_accuracy: 0.8014 - val_loss: 0.5519 - learning_rate: 1.0000e-04\n",
      "Epoch 13/40\n",
      "\u001b[1m36/36\u001b[0m \u001b[32m━━━━━━━━━━━━━━━━━━━━\u001b[0m\u001b[37m\u001b[0m \u001b[1m10s\u001b[0m 282ms/step - accuracy: 0.8469 - loss: 0.4247 - val_accuracy: 0.8014 - val_loss: 0.4958 - learning_rate: 1.0000e-04\n",
      "Epoch 14/40\n",
      "\u001b[1m36/36\u001b[0m \u001b[32m━━━━━━━━━━━━━━━━━━━━\u001b[0m\u001b[37m\u001b[0m \u001b[1m10s\u001b[0m 283ms/step - accuracy: 0.8659 - loss: 0.3649 - val_accuracy: 0.7943 - val_loss: 0.5215 - learning_rate: 1.0000e-04\n",
      "Epoch 15/40\n",
      "\u001b[1m36/36\u001b[0m \u001b[32m━━━━━━━━━━━━━━━━━━━━\u001b[0m\u001b[37m\u001b[0m \u001b[1m10s\u001b[0m 282ms/step - accuracy: 0.8450 - loss: 0.4056 - val_accuracy: 0.7801 - val_loss: 0.5168 - learning_rate: 1.0000e-04\n",
      "Epoch 16/40\n",
      "\u001b[1m36/36\u001b[0m \u001b[32m━━━━━━━━━━━━━━━━━━━━\u001b[0m\u001b[37m\u001b[0m \u001b[1m10s\u001b[0m 286ms/step - accuracy: 0.8351 - loss: 0.3998 - val_accuracy: 0.7660 - val_loss: 0.5236 - learning_rate: 1.0000e-04\n",
      "Epoch 17/40\n",
      "\u001b[1m36/36\u001b[0m \u001b[32m━━━━━━━━━━━━━━━━━━━━\u001b[0m\u001b[37m\u001b[0m \u001b[1m10s\u001b[0m 282ms/step - accuracy: 0.8544 - loss: 0.3892 - val_accuracy: 0.8227 - val_loss: 0.4885 - learning_rate: 1.0000e-04\n",
      "Epoch 18/40\n",
      "\u001b[1m36/36\u001b[0m \u001b[32m━━━━━━━━━━━━━━━━━━━━\u001b[0m\u001b[37m\u001b[0m \u001b[1m10s\u001b[0m 284ms/step - accuracy: 0.8625 - loss: 0.3736 - val_accuracy: 0.7801 - val_loss: 0.5083 - learning_rate: 1.0000e-04\n",
      "Epoch 19/40\n",
      "\u001b[1m36/36\u001b[0m \u001b[32m━━━━━━━━━━━━━━━━━━━━\u001b[0m\u001b[37m\u001b[0m \u001b[1m10s\u001b[0m 281ms/step - accuracy: 0.9208 - loss: 0.3013 - val_accuracy: 0.7730 - val_loss: 0.4562 - learning_rate: 1.0000e-04\n",
      "Epoch 20/40\n",
      "\u001b[1m36/36\u001b[0m \u001b[32m━━━━━━━━━━━━━━━━━━━━\u001b[0m\u001b[37m\u001b[0m \u001b[1m10s\u001b[0m 282ms/step - accuracy: 0.8828 - loss: 0.3359 - val_accuracy: 0.7943 - val_loss: 0.5210 - learning_rate: 1.0000e-04\n",
      "Epoch 21/40\n",
      "\u001b[1m36/36\u001b[0m \u001b[32m━━━━━━━━━━━━━━━━━━━━\u001b[0m\u001b[37m\u001b[0m \u001b[1m10s\u001b[0m 286ms/step - accuracy: 0.8955 - loss: 0.3277 - val_accuracy: 0.7943 - val_loss: 0.5070 - learning_rate: 1.0000e-04\n",
      "Epoch 22/40\n",
      "\u001b[1m36/36\u001b[0m \u001b[32m━━━━━━━━━━━━━━━━━━━━\u001b[0m\u001b[37m\u001b[0m \u001b[1m11s\u001b[0m 307ms/step - accuracy: 0.9013 - loss: 0.3180 - val_accuracy: 0.7872 - val_loss: 0.5140 - learning_rate: 1.0000e-04\n",
      "Epoch 23/40\n",
      "\u001b[1m36/36\u001b[0m \u001b[32m━━━━━━━━━━━━━━━━━━━━\u001b[0m\u001b[37m\u001b[0m \u001b[1m11s\u001b[0m 292ms/step - accuracy: 0.8938 - loss: 0.3135 - val_accuracy: 0.7730 - val_loss: 0.5095 - learning_rate: 1.0000e-04\n",
      "Epoch 24/40\n",
      "\u001b[1m36/36\u001b[0m \u001b[32m━━━━━━━━━━━━━━━━━━━━\u001b[0m\u001b[37m\u001b[0m \u001b[1m10s\u001b[0m 285ms/step - accuracy: 0.9210 - loss: 0.2628 - val_accuracy: 0.8227 - val_loss: 0.5063 - learning_rate: 1.0000e-04\n",
      "\u001b[1m9/9\u001b[0m \u001b[32m━━━━━━━━━━━━━━━━━━━━\u001b[0m\u001b[37m\u001b[0m \u001b[1m4s\u001b[0m 309ms/step\n"
     ]
    }
   ],
   "source": [
    "# Callbacks\n",
    "early_stop = EarlyStopping(monitor='val_loss', patience=5, restore_best_weights=True)\n",
    "reduce_lr = ReduceLROnPlateau(monitor='val_loss', factor=0.2, patience=5, min_lr=1e-6)\n",
    "\n",
    "# Train the model\n",
    "print(\"Training the custom CNN model...\")\n",
    "history = model.fit(\n",
    "    train_data,\n",
    "    validation_data=test_data,\n",
    "    epochs=40,\n",
    "    callbacks=[early_stop, reduce_lr]\n",
    ")\n",
    "\n",
    "# Evaluation\n",
    "y_true = test_data.classes\n",
    "y_pred_probs = model.predict(test_data)\n",
    "y_pred = np.argmax(y_pred_probs, axis=1)"
   ]
  },
  {
   "cell_type": "code",
   "execution_count": 110,
   "metadata": {},
   "outputs": [
    {
     "data": {
      "image/png": "[encoded data removed]",
      "text/plain": [
       "<Figure size 800x600 with 2 Axes>"
      ]
     },
     "metadata": {},
     "output_type": "display_data"
    }
   ],
   "source": [
    "# Confusion Matrix and Classification Report\n",
    "cm = confusion_matrix(y_true, y_pred)\n",
    "class_names = list(test_data.class_indices.keys())\n",
    "\n",
    "# Plot Confusion Matrix\n",
    "plt.figure(figsize=(8,6))\n",
    "sns.heatmap(cm, annot=True, fmt=\"d\", xticklabels=class_names, yticklabels=class_names, cmap='Blues')\n",
    "plt.xlabel('Predicted Label')\n",
    "plt.ylabel('True Label')\n",
    "plt.title('Confusion Matrix')\n",
    "plt.show()"
   ]
  },
  {
   "cell_type": "code",
   "execution_count": 111,
   "metadata": {},
   "outputs": [
    {
     "name": "stdout",
     "output_type": "stream",
     "text": [
      "              precision    recall  f1-score   support\n",
      "\n",
      "      adidas       0.77      0.79      0.78        47\n",
      "    converse       0.88      0.81      0.84        47\n",
      "        nike       0.78      0.83      0.80        47\n",
      "\n",
      "    accuracy                           0.81       141\n",
      "   macro avg       0.81      0.81      0.81       141\n",
      "weighted avg       0.81      0.81      0.81       141\n",
      "\n"
     ]
    }
   ],
   "source": [
    "print(classification_report(y_true, y_pred, target_names=class_names))"
   ]
  }
 ],
 "metadata": {
  "kernelspec": {
   "display_name": "Python 3",
   "language": "python",
   "name": "python3"
  },
  "language_info": {
   "codemirror_mode": {
    "name": "ipython",
    "version": 3
   },
   "file_extension": ".py",
   "mimetype": "text/x-python",
   "name": "python",
   "nbconvert_exporter": "python",
   "pygments_lexer": "ipython3",
   "version": "3.10.11"
  }
 },
 "nbformat": 4,
 "nbformat_minor": 2
}
