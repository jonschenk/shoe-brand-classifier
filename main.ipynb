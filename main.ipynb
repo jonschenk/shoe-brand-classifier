{
 "cells": [
  {
   "cell_type": "code",
   "execution_count": 17,
   "metadata": {},
   "outputs": [],
   "source": [
    "import tensorflow as tf\n",
    "from tensorflow.keras import layers, models\n",
    "from tensorflow.keras.applications import MobileNetV2\n",
    "from tensorflow.keras.preprocessing.image import ImageDataGenerator\n",
    "from sklearn.metrics import confusion_matrix, classification_report\n",
    "import seaborn as sns\n",
    "import matplotlib.pyplot as plt\n",
    "import numpy as np\n",
    "from tensorflow.keras.callbacks import EarlyStopping, ReduceLROnPlateau\n"
   ]
  },
  {
   "cell_type": "code",
   "execution_count": null,
   "metadata": {},
   "outputs": [
    {
     "name": "stdout",
     "output_type": "stream",
     "text": [
      "Found 570 images belonging to 3 classes.\n",
      "Found 141 images belonging to 3 classes.\n",
      "Found 114 images belonging to 3 classes.\n"
     ]
    }
   ],
   "source": [
    "# Image size and batch size\n",
    "image_size = (224, 224)\n",
    "batch_size = 32\n",
    "train_dir = 'data/train'\n",
    "test_dir = 'data/test'\n",
    "\n",
    "# Generate data by modifiying oringal dataset\n",
    "train_datagen = ImageDataGenerator(\n",
    "    rescale=1./255,\n",
    "    rotation_range=20,\n",
    "    width_shift_range=0.15,\n",
    "    height_shift_range=0.15,\n",
    "    zoom_range=0.2,\n",
    "    horizontal_flip=True,\n",
    "    fill_mode='nearest',\n",
    "    validation_split=0.2\n",
    ")\n",
    "\n",
    "test_datagen = ImageDataGenerator(rescale=1./255)\n",
    "\n",
    "train_data = train_datagen.flow_from_directory(\n",
    "    'data/train',\n",
    "    target_size=image_size,\n",
    "    batch_size=batch_size,\n",
    "    class_mode='categorical',\n",
    "    shuffle = False,\n",
    "    subset='training'\n",
    ")\n",
    "\n",
    "val_data = train_datagen.flow_from_directory(\n",
    "    'data/train',\n",
    "    target_size=image_size,\n",
    "    batch_size=batch_size,\n",
    "    class_mode='categorical',\n",
    "    shuffle = False,\n",
    "    subset='validation'\n",
    ")\n",
    "\n",
    "test_data = test_datagen.flow_from_directory(\n",
    "    test_dir,\n",
    "    target_size=image_size,\n",
    "    batch_size=batch_size,\n",
    "    class_mode='categorical',\n",
    "    shuffle = False,\n",
    ")"
   ]
  },
  {
   "cell_type": "code",
   "execution_count": 19,
   "metadata": {},
   "outputs": [],
   "source": [
    "base_model = MobileNetV2(weights='imagenet', include_top=False, input_shape=(224, 224, 3))\n",
    "base_model.trainable = False \n",
    "\n",
    "model = models.Sequential([\n",
    "    base_model,\n",
    "    layers.GlobalAveragePooling2D(),\n",
    "    layers.Dense(256, activation='relu'),\n",
    "    layers.Dropout(0.3),\n",
    "    layers.Dense(train_data.num_classes, activation='softmax')\n",
    "])\n",
    "\n",
    "\n",
    "# Compilation\n",
    "model.compile(\n",
    "    optimizer=tf.keras.optimizers.Adam(learning_rate=0.0001),\n",
    "    loss='categorical_crossentropy',\n",
    "    metrics=['accuracy']\n",
    ")"
   ]
  },
  {
   "cell_type": "code",
   "execution_count": 20,
   "metadata": {},
   "outputs": [
    {
     "name": "stderr",
     "output_type": "stream",
     "text": [
      "c:\\Users\\wongb\\AppData\\Local\\Programs\\Python\\Python310\\lib\\site-packages\\keras\\src\\trainers\\data_adapters\\py_dataset_adapter.py:121: UserWarning: Your `PyDataset` class should call `super().__init__(**kwargs)` in its constructor. `**kwargs` can include `workers`, `use_multiprocessing`, `max_queue_size`. Do not pass these arguments to `fit()`, as they will be ignored.\n",
      "  self._warn_if_super_not_called()\n"
     ]
    },
    {
     "name": "stdout",
     "output_type": "stream",
     "text": [
      "Epoch 1/40\n",
      "\u001b[1m18/18\u001b[0m \u001b[32m━━━━━━━━━━━━━━━━━━━━\u001b[0m\u001b[37m\u001b[0m \u001b[1m16s\u001b[0m 740ms/step - accuracy: 0.3143 - loss: 1.5124 - val_accuracy: 0.4326 - val_loss: 1.1228 - learning_rate: 1.0000e-04\n",
      "Epoch 2/40\n",
      "\u001b[1m18/18\u001b[0m \u001b[32m━━━━━━━━━━━━━━━━━━━━\u001b[0m\u001b[37m\u001b[0m \u001b[1m11s\u001b[0m 621ms/step - accuracy: 0.3587 - loss: 1.3009 - val_accuracy: 0.4397 - val_loss: 1.0915 - learning_rate: 1.0000e-04\n",
      "Epoch 3/40\n",
      "\u001b[1m18/18\u001b[0m \u001b[32m━━━━━━━━━━━━━━━━━━━━\u001b[0m\u001b[37m\u001b[0m \u001b[1m11s\u001b[0m 630ms/step - accuracy: 0.3955 - loss: 1.2591 - val_accuracy: 0.4752 - val_loss: 1.0135 - learning_rate: 1.0000e-04\n",
      "Epoch 4/40\n",
      "\u001b[1m18/18\u001b[0m \u001b[32m━━━━━━━━━━━━━━━━━━━━\u001b[0m\u001b[37m\u001b[0m \u001b[1m12s\u001b[0m 658ms/step - accuracy: 0.5026 - loss: 1.0259 - val_accuracy: 0.5532 - val_loss: 0.9827 - learning_rate: 1.0000e-04\n",
      "Epoch 5/40\n",
      "\u001b[1m18/18\u001b[0m \u001b[32m━━━━━━━━━━━━━━━━━━━━\u001b[0m\u001b[37m\u001b[0m \u001b[1m12s\u001b[0m 648ms/step - accuracy: 0.5236 - loss: 0.9865 - val_accuracy: 0.5532 - val_loss: 0.9473 - learning_rate: 1.0000e-04\n",
      "Epoch 6/40\n",
      "\u001b[1m18/18\u001b[0m \u001b[32m━━━━━━━━━━━━━━━━━━━━\u001b[0m\u001b[37m\u001b[0m \u001b[1m11s\u001b[0m 622ms/step - accuracy: 0.5117 - loss: 1.0352 - val_accuracy: 0.5674 - val_loss: 0.9065 - learning_rate: 1.0000e-04\n",
      "Epoch 7/40\n",
      "\u001b[1m18/18\u001b[0m \u001b[32m━━━━━━━━━━━━━━━━━━━━\u001b[0m\u001b[37m\u001b[0m \u001b[1m11s\u001b[0m 604ms/step - accuracy: 0.6033 - loss: 0.8963 - val_accuracy: 0.6312 - val_loss: 0.8910 - learning_rate: 1.0000e-04\n",
      "Epoch 8/40\n",
      "\u001b[1m18/18\u001b[0m \u001b[32m━━━━━━━━━━━━━━━━━━━━\u001b[0m\u001b[37m\u001b[0m \u001b[1m11s\u001b[0m 631ms/step - accuracy: 0.6147 - loss: 0.8655 - val_accuracy: 0.6170 - val_loss: 0.8588 - learning_rate: 1.0000e-04\n",
      "Epoch 9/40\n",
      "\u001b[1m18/18\u001b[0m \u001b[32m━━━━━━━━━━━━━━━━━━━━\u001b[0m\u001b[37m\u001b[0m \u001b[1m12s\u001b[0m 663ms/step - accuracy: 0.6535 - loss: 0.7895 - val_accuracy: 0.6596 - val_loss: 0.8254 - learning_rate: 1.0000e-04\n",
      "Epoch 10/40\n",
      "\u001b[1m18/18\u001b[0m \u001b[32m━━━━━━━━━━━━━━━━━━━━\u001b[0m\u001b[37m\u001b[0m \u001b[1m12s\u001b[0m 641ms/step - accuracy: 0.6531 - loss: 0.8323 - val_accuracy: 0.6454 - val_loss: 0.7957 - learning_rate: 1.0000e-04\n",
      "Epoch 11/40\n",
      "\u001b[1m18/18\u001b[0m \u001b[32m━━━━━━━━━━━━━━━━━━━━\u001b[0m\u001b[37m\u001b[0m \u001b[1m11s\u001b[0m 613ms/step - accuracy: 0.6263 - loss: 0.8037 - val_accuracy: 0.5957 - val_loss: 0.8429 - learning_rate: 1.0000e-04\n",
      "Epoch 12/40\n",
      "\u001b[1m18/18\u001b[0m \u001b[32m━━━━━━━━━━━━━━━━━━━━\u001b[0m\u001b[37m\u001b[0m \u001b[1m11s\u001b[0m 605ms/step - accuracy: 0.6501 - loss: 0.7695 - val_accuracy: 0.6667 - val_loss: 0.8276 - learning_rate: 1.0000e-04\n",
      "Epoch 13/40\n",
      "\u001b[1m18/18\u001b[0m \u001b[32m━━━━━━━━━━━━━━━━━━━━\u001b[0m\u001b[37m\u001b[0m \u001b[1m11s\u001b[0m 603ms/step - accuracy: 0.6556 - loss: 0.7778 - val_accuracy: 0.6667 - val_loss: 0.7411 - learning_rate: 1.0000e-04\n",
      "Epoch 14/40\n",
      "\u001b[1m18/18\u001b[0m \u001b[32m━━━━━━━━━━━━━━━━━━━━\u001b[0m\u001b[37m\u001b[0m \u001b[1m11s\u001b[0m 627ms/step - accuracy: 0.6715 - loss: 0.7384 - val_accuracy: 0.7234 - val_loss: 0.7243 - learning_rate: 1.0000e-04\n",
      "Epoch 15/40\n",
      "\u001b[1m18/18\u001b[0m \u001b[32m━━━━━━━━━━━━━━━━━━━━\u001b[0m\u001b[37m\u001b[0m \u001b[1m12s\u001b[0m 694ms/step - accuracy: 0.6771 - loss: 0.7259 - val_accuracy: 0.6738 - val_loss: 0.7343 - learning_rate: 1.0000e-04\n",
      "Epoch 16/40\n",
      "\u001b[1m18/18\u001b[0m \u001b[32m━━━━━━━━━━━━━━━━━━━━\u001b[0m\u001b[37m\u001b[0m \u001b[1m12s\u001b[0m 695ms/step - accuracy: 0.6943 - loss: 0.7172 - val_accuracy: 0.6879 - val_loss: 0.7139 - learning_rate: 1.0000e-04\n",
      "Epoch 17/40\n",
      "\u001b[1m18/18\u001b[0m \u001b[32m━━━━━━━━━━━━━━━━━━━━\u001b[0m\u001b[37m\u001b[0m \u001b[1m11s\u001b[0m 637ms/step - accuracy: 0.7752 - loss: 0.6072 - val_accuracy: 0.6950 - val_loss: 0.7135 - learning_rate: 1.0000e-04\n",
      "Epoch 18/40\n",
      "\u001b[1m18/18\u001b[0m \u001b[32m━━━━━━━━━━━━━━━━━━━━\u001b[0m\u001b[37m\u001b[0m \u001b[1m11s\u001b[0m 636ms/step - accuracy: 0.7630 - loss: 0.5872 - val_accuracy: 0.7021 - val_loss: 0.7078 - learning_rate: 1.0000e-04\n",
      "Epoch 19/40\n",
      "\u001b[1m18/18\u001b[0m \u001b[32m━━━━━━━━━━━━━━━━━━━━\u001b[0m\u001b[37m\u001b[0m \u001b[1m11s\u001b[0m 637ms/step - accuracy: 0.7706 - loss: 0.5637 - val_accuracy: 0.7163 - val_loss: 0.6735 - learning_rate: 1.0000e-04\n",
      "Epoch 20/40\n",
      "\u001b[1m18/18\u001b[0m \u001b[32m━━━━━━━━━━━━━━━━━━━━\u001b[0m\u001b[37m\u001b[0m \u001b[1m11s\u001b[0m 631ms/step - accuracy: 0.7632 - loss: 0.5883 - val_accuracy: 0.7305 - val_loss: 0.6338 - learning_rate: 1.0000e-04\n",
      "Epoch 21/40\n",
      "\u001b[1m18/18\u001b[0m \u001b[32m━━━━━━━━━━━━━━━━━━━━\u001b[0m\u001b[37m\u001b[0m \u001b[1m11s\u001b[0m 636ms/step - accuracy: 0.7975 - loss: 0.5319 - val_accuracy: 0.7021 - val_loss: 0.6920 - learning_rate: 1.0000e-04\n",
      "Epoch 22/40\n",
      "\u001b[1m18/18\u001b[0m \u001b[32m━━━━━━━━━━━━━━━━━━━━\u001b[0m\u001b[37m\u001b[0m \u001b[1m11s\u001b[0m 631ms/step - accuracy: 0.7600 - loss: 0.6085 - val_accuracy: 0.7305 - val_loss: 0.6874 - learning_rate: 1.0000e-04\n",
      "Epoch 23/40\n",
      "\u001b[1m18/18\u001b[0m \u001b[32m━━━━━━━━━━━━━━━━━━━━\u001b[0m\u001b[37m\u001b[0m \u001b[1m11s\u001b[0m 634ms/step - accuracy: 0.8106 - loss: 0.5287 - val_accuracy: 0.7021 - val_loss: 0.6478 - learning_rate: 1.0000e-04\n",
      "Epoch 24/40\n",
      "\u001b[1m18/18\u001b[0m \u001b[32m━━━━━━━━━━━━━━━━━━━━\u001b[0m\u001b[37m\u001b[0m \u001b[1m11s\u001b[0m 630ms/step - accuracy: 0.7658 - loss: 0.5644 - val_accuracy: 0.6879 - val_loss: 0.6617 - learning_rate: 1.0000e-04\n",
      "Epoch 25/40\n",
      "\u001b[1m18/18\u001b[0m \u001b[32m━━━━━━━━━━━━━━━━━━━━\u001b[0m\u001b[37m\u001b[0m \u001b[1m11s\u001b[0m 635ms/step - accuracy: 0.8036 - loss: 0.5066 - val_accuracy: 0.6809 - val_loss: 0.7012 - learning_rate: 1.0000e-04\n",
      "WARNING:tensorflow:5 out of the last 9 calls to <function TensorFlowTrainer.make_predict_function.<locals>.one_step_on_data_distributed at 0x000001E79284B6D0> triggered tf.function retracing. Tracing is expensive and the excessive number of tracings could be due to (1) creating @tf.function repeatedly in a loop, (2) passing tensors with different shapes, (3) passing Python objects instead of tensors. For (1), please define your @tf.function outside of the loop. For (2), @tf.function has reduce_retracing=True option that can avoid unnecessary retracing. For (3), please refer to https://www.tensorflow.org/guide/function#controlling_retracing and https://www.tensorflow.org/api_docs/python/tf/function for  more details.\n",
      "\u001b[1m3/4\u001b[0m \u001b[32m━━━━━━━━━━━━━━━\u001b[0m\u001b[37m━━━━━\u001b[0m \u001b[1m0s\u001b[0m 381ms/stepWARNING:tensorflow:6 out of the last 12 calls to <function TensorFlowTrainer.make_predict_function.<locals>.one_step_on_data_distributed at 0x000001E79284B6D0> triggered tf.function retracing. Tracing is expensive and the excessive number of tracings could be due to (1) creating @tf.function repeatedly in a loop, (2) passing tensors with different shapes, (3) passing Python objects instead of tensors. For (1), please define your @tf.function outside of the loop. For (2), @tf.function has reduce_retracing=True option that can avoid unnecessary retracing. For (3), please refer to https://www.tensorflow.org/guide/function#controlling_retracing and https://www.tensorflow.org/api_docs/python/tf/function for  more details.\n",
      "\u001b[1m4/4\u001b[0m \u001b[32m━━━━━━━━━━━━━━━━━━━━\u001b[0m\u001b[37m\u001b[0m \u001b[1m3s\u001b[0m 576ms/step\n"
     ]
    }
   ],
   "source": [
    "# Callbacks\n",
    "early_stop = EarlyStopping(monitor='val_loss', patience=5, restore_best_weights=True)\n",
    "reduce_lr = ReduceLROnPlateau(monitor='val_loss', factor=0.2, patience=5, min_lr=1e-6)\n",
    "\n",
    "# Train the model\n",
    "history = model.fit(\n",
    "    train_data,\n",
    "    validation_data=val_data,\n",
    "    epochs=40,\n",
    "    callbacks=[early_stop, reduce_lr]\n",
    ")\n",
    "\n",
    "# Evaluation\n",
    "y_true = test_data.classes\n",
    "y_pred_probs = model.predict(test_data)\n",
    "y_pred = np.argmax(y_pred_probs, axis=1)"
   ]
  },
  {
   "cell_type": "code",
   "execution_count": 21,
   "metadata": {},
   "outputs": [
    {
     "data": {
      "image/png": "[encoded data removed]",
      "text/plain": [
       "<Figure size 800x600 with 2 Axes>"
      ]
     },
     "metadata": {},
     "output_type": "display_data"
    }
   ],
   "source": [
    "# Confusion Matrix and Classification Report\n",
    "cm = confusion_matrix(y_true, y_pred)\n",
    "class_names = list(test_data.class_indices.keys())\n",
    "\n",
    "# Plot Confusion Matrix\n",
    "plt.figure(figsize=(8,6))\n",
    "sns.heatmap(cm, annot=True, fmt=\"d\", xticklabels=class_names, yticklabels=class_names, cmap='Blues')\n",
    "plt.xlabel('Predicted Label')\n",
    "plt.ylabel('True Label')\n",
    "plt.title('Confusion Matrix')\n",
    "plt.show()"
   ]
  },
  {
   "cell_type": "code",
   "execution_count": 22,
   "metadata": {},
   "outputs": [
    {
     "name": "stdout",
     "output_type": "stream",
     "text": [
      "              precision    recall  f1-score   support\n",
      "\n",
      "      adidas       0.69      0.82      0.75        38\n",
      "    converse       0.86      0.84      0.85        38\n",
      "        nike       0.75      0.63      0.69        38\n",
      "\n",
      "    accuracy                           0.76       114\n",
      "   macro avg       0.77      0.76      0.76       114\n",
      "weighted avg       0.77      0.76      0.76       114\n",
      "\n"
     ]
    }
   ],
   "source": [
    "print(classification_report(y_true, y_pred, target_names=class_names))"
   ]
  }
 ],
 "metadata": {
  "kernelspec": {
   "display_name": "Python 3",
   "language": "python",
   "name": "python3"
  },
  "language_info": {
   "codemirror_mode": {
    "name": "ipython",
    "version": 3
   },
   "file_extension": ".py",
   "mimetype": "text/x-python",
   "name": "python",
   "nbconvert_exporter": "python",
   "pygments_lexer": "ipython3",
   "version": "3.10.11"
  }
 },
 "nbformat": 4,
 "nbformat_minor": 2
}
